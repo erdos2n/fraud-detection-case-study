{
 "cells": [
  {
   "cell_type": "code",
   "execution_count": 136,
   "metadata": {
    "collapsed": false
   },
   "outputs": [],
   "source": [
    "import pandas as pd\n",
    "import numpy as np\n",
    "import re\n",
    "\n",
    "from HTMLParser import HTMLParser\n",
    "from scipy.spatial.distance import cdist\n",
    "from pprint import pprint\n",
    "from textblob import TextBlob\n",
    "\n",
    "from sklearn.feature_selection import SelectKBest\n",
    "from sklearn.ensemble import RandomForestClassifier, AdaBoostClassifier\n",
    "from gensim import models, corpora, similarities\n",
    "from gensim.models import tfidfmodel, TfidfModel\n",
    "from sklearn.feature_extraction.text import TfidfVectorizer\n",
    "from sklearn.metrics.pairwise import cosine_similarity\n",
    "from sklearn.decomposition import PCA, TruncatedSVD\n",
    "from sklearn.manifold import TSNE\n",
    "\n",
    "import matplotlib.pyplot as plt\n",
    "import matplotlib"
   ]
  },
  {
   "cell_type": "code",
   "execution_count": 135,
   "metadata": {
    "collapsed": false
   },
   "outputs": [],
   "source": [
    "font = {'family' : 'monospace',\n",
    "        'weight' : 'medium',\n",
    "        'size'   : 24}\n",
    "\n",
    "matplotlib.rc('font', **font)"
   ]
  },
  {
   "cell_type": "code",
   "execution_count": 71,
   "metadata": {
    "collapsed": false
   },
   "outputs": [],
   "source": [
    "def total_tickets_sold(x):\n",
    "    \"\"\"\n",
    "    Input: dataframe x with column 'quantity sold'\n",
    "    ------------\n",
    "    Returns: Total Number of Tickets sold\n",
    "    \"\"\"\n",
    "    sold = []\n",
    "    for i in x:\n",
    "        sold.append(i['quantity_sold'])\n",
    "    return sum(sold)\n",
    "\n",
    "def median_ticket_cost(x):\n",
    "    \"\"\"\n",
    "    Input: dataframe x with column called 'cost'\n",
    "    ----------------\n",
    "    Returns: median cost\n",
    "    \"\"\"\n",
    "    costs = []\n",
    "\n",
    "    for i in x:\n",
    "\n",
    "        costs.append(i['cost'])\n",
    "\n",
    "    return np.median(costs) "
   ]
  },
  {
   "cell_type": "code",
   "execution_count": 47,
   "metadata": {
    "collapsed": true
   },
   "outputs": [],
   "source": [
    "def namestr(**kwargs):\n",
    "    for k,v in kwargs.items():\n",
    "        print \"%s\" %k"
   ]
  },
  {
   "cell_type": "code",
   "execution_count": 2,
   "metadata": {
    "collapsed": true
   },
   "outputs": [],
   "source": [
    "def cleanhtml(raw_html):\n",
    "    cleanr = re.compile('<.*?>')\n",
    "    cleanr2 = re.compile('\\r')\n",
    "    cleanr3 = re.compile('\\n')\n",
    "    cleanr4 = re.compile('\\t')\n",
    "    cleanr5 = re.compile('\\xa0')\n",
    "    cleanr6 = re.compile('\\u')\n",
    "    \n",
    "    raw_html = re.sub(cleanr, '', raw_html)\n",
    "    raw_html = re.sub(cleanr2, '', raw_html)\n",
    "    raw_html = re.sub(cleanr3, '', raw_html)\n",
    "    raw_html = re.sub(cleanr4, '', raw_html)\n",
    "    raw_html = re.sub(cleanr5, '', raw_html)\n",
    "    raw_html = re.sub(cleanr6, '', raw_html)\n",
    "    return raw_html"
   ]
  },
  {
   "cell_type": "code",
   "execution_count": 3,
   "metadata": {
    "collapsed": true
   },
   "outputs": [],
   "source": [
    "df = pd.read_json('data.json')"
   ]
  },
  {
   "cell_type": "code",
   "execution_count": 5,
   "metadata": {
    "collapsed": false
   },
   "outputs": [],
   "source": [
    "train_df = df[(df['acct_type']=='fraudster_event') | (df['acct_type']=='premium') | (df['acct_type']=='fraudster')]"
   ]
  },
  {
   "cell_type": "code",
   "execution_count": 127,
   "metadata": {
    "collapsed": false
   },
   "outputs": [
    {
     "data": {
      "text/plain": [
       "(14337, 46)"
      ]
     },
     "execution_count": 127,
     "metadata": {},
     "output_type": "execute_result"
    }
   ],
   "source": []
  },
  {
   "cell_type": "code",
   "execution_count": 6,
   "metadata": {
    "collapsed": false
   },
   "outputs": [],
   "source": [
    "labels = []\n",
    "for event in train_df['acct_type']:\n",
    "    if event == 'premium':\n",
    "        labels.append(0)\n",
    "    else:\n",
    "        labels.append(1)"
   ]
  },
  {
   "cell_type": "code",
   "execution_count": 7,
   "metadata": {
    "collapsed": false
   },
   "outputs": [
    {
     "name": "stderr",
     "output_type": "stream",
     "text": [
      "/home/rafa/anaconda2/lib/python2.7/site-packages/ipykernel/__main__.py:1: SettingWithCopyWarning: \n",
      "A value is trying to be set on a copy of a slice from a DataFrame.\n",
      "Try using .loc[row_indexer,col_indexer] = value instead\n",
      "\n",
      "See the caveats in the documentation: http://pandas.pydata.org/pandas-docs/stable/indexing.html#indexing-view-versus-copy\n",
      "  if __name__ == '__main__':\n"
     ]
    }
   ],
   "source": [
    "train_df['labels'] = labels"
   ]
  },
  {
   "cell_type": "markdown",
   "metadata": {},
   "source": [
    "# NLP\n",
    "\n",
    "<h1> Will NLP work??? </h1>\n",
    ".  \n",
    "\n",
    ".  \n",
    "\n",
    ".  \n",
    "  \n",
    ".  \n",
    "\n",
    ".  \n",
    "\n",
    ".  \n",
    "\n",
    ".  \n",
    "\n",
    ".  \n",
    "\n",
    "  \n",
    "    \n",
    "     \n",
    "<h1> SPOILER ALERT! </h1>\n",
    "\n",
    "\n",
    "\n",
    "\n",
    "\n",
    "\n",
    "\n",
    "\n",
    "It didn't!"
   ]
  },
  {
   "cell_type": "code",
   "execution_count": 10,
   "metadata": {
    "collapsed": true
   },
   "outputs": [],
   "source": [
    "fraud_text = np.array(train_df[train_df['labels'] == 1]['description'])\n",
    "true_text  = np.array(train_df[train_df['labels'] == 0]['description'])"
   ]
  },
  {
   "cell_type": "code",
   "execution_count": 11,
   "metadata": {
    "collapsed": false
   },
   "outputs": [],
   "source": [
    "fraud_text = [cleanhtml(text) for text in fraud_text]\n",
    "true_text  = [cleanhtml(text) for text in true_text]"
   ]
  },
  {
   "cell_type": "code",
   "execution_count": 12,
   "metadata": {
    "collapsed": true
   },
   "outputs": [],
   "source": [
    "fraud_text = np.array(fraud_text)\n",
    "true_text  = np.array(true_text)"
   ]
  },
  {
   "cell_type": "code",
   "execution_count": 13,
   "metadata": {
    "collapsed": false
   },
   "outputs": [],
   "source": [
    "tfidf = TfidfVectorizer(stop_words='english')"
   ]
  },
  {
   "cell_type": "code",
   "execution_count": 14,
   "metadata": {
    "collapsed": false
   },
   "outputs": [],
   "source": [
    "fraud_fit = tfidf.fit(fraud_text)\n",
    "fraud_vecs = tfidf.transform(fraud_text)"
   ]
  },
  {
   "cell_type": "code",
   "execution_count": 15,
   "metadata": {
    "collapsed": false
   },
   "outputs": [],
   "source": [
    "tfidf = TfidfVectorizer(stop_words='english')\n",
    "true_fit = tfidf.fit(true_text)\n",
    "true_vecs = tfidf.transform(true_text)"
   ]
  },
  {
   "cell_type": "code",
   "execution_count": 18,
   "metadata": {
    "collapsed": false
   },
   "outputs": [],
   "source": [
    "index = np.random.randint(0, len(fraud_text), size = 10)\n",
    "samp_fraud = fraud_vecs[index]\n",
    "index = np.random.randint(0, len(true_text), size = 10)\n",
    "samp_true  = true_vecs[index]"
   ]
  },
  {
   "cell_type": "code",
   "execution_count": 29,
   "metadata": {
    "collapsed": false
   },
   "outputs": [],
   "source": [
    "cos_fraud = cosine_similarity(samp_fraud, fraud_vecs)\n",
    "cos_true = cosine_similarity(samp_true, true_vecs)"
   ]
  },
  {
   "cell_type": "code",
   "execution_count": 42,
   "metadata": {
    "collapsed": false
   },
   "outputs": [],
   "source": [
    "svd = TruncatedSVD(n_components=10)"
   ]
  },
  {
   "cell_type": "code",
   "execution_count": 51,
   "metadata": {
    "collapsed": false
   },
   "outputs": [],
   "source": [
    "fvecs = svd.fit_transform(fraud_vecs)\n",
    "tvecs = svd.fit_transform(true_vecs)\n",
    "sfvecs = svd.fit_transform(samp_fraud)\n",
    "stvecs = svd.fit_transform(samp_true)"
   ]
  },
  {
   "cell_type": "code",
   "execution_count": 68,
   "metadata": {
    "collapsed": false
   },
   "outputs": [
    {
     "name": "stdout",
     "output_type": "stream",
     "text": [
      "2.64575131106\n",
      "3.0\n"
     ]
    }
   ],
   "source": [
    "for samp in [sfvecs, stvecs]:\n",
    "    print np.linalg.norm(samp)"
   ]
  },
  {
   "cell_type": "code",
   "execution_count": 81,
   "metadata": {
    "collapsed": false
   },
   "outputs": [
    {
     "name": "stderr",
     "output_type": "stream",
     "text": [
      "/home/rafa/anaconda2/lib/python2.7/site-packages/ipykernel/__main__.py:1: SettingWithCopyWarning: \n",
      "A value is trying to be set on a copy of a slice from a DataFrame.\n",
      "Try using .loc[row_indexer,col_indexer] = value instead\n",
      "\n",
      "See the caveats in the documentation: http://pandas.pydata.org/pandas-docs/stable/indexing.html#indexing-view-versus-copy\n",
      "  if __name__ == '__main__':\n",
      "/home/rafa/anaconda2/lib/python2.7/site-packages/ipykernel/__main__.py:2: SettingWithCopyWarning: \n",
      "A value is trying to be set on a copy of a slice from a DataFrame.\n",
      "Try using .loc[row_indexer,col_indexer] = value instead\n",
      "\n",
      "See the caveats in the documentation: http://pandas.pydata.org/pandas-docs/stable/indexing.html#indexing-view-versus-copy\n",
      "  from ipykernel import kernelapp as app\n"
     ]
    }
   ],
   "source": [
    "train_df['total_tickets_sold'] = map(lambda X: total_tickets_sold(X), train_df['ticket_types'])\n",
    "train_df['median_ticket_cost'] = map(lambda X: median_ticket_cost(X), train_df['ticket_types'])"
   ]
  },
  {
   "cell_type": "code",
   "execution_count": 82,
   "metadata": {
    "collapsed": false
   },
   "outputs": [
    {
     "data": {
      "text/html": [
       "<div>\n",
       "<table border=\"1\" class=\"dataframe\">\n",
       "  <thead>\n",
       "    <tr style=\"text-align: right;\">\n",
       "      <th></th>\n",
       "      <th>acct_type</th>\n",
       "      <th>approx_payout_date</th>\n",
       "      <th>body_length</th>\n",
       "      <th>channels</th>\n",
       "      <th>country</th>\n",
       "      <th>currency</th>\n",
       "      <th>delivery_method</th>\n",
       "      <th>description</th>\n",
       "      <th>email_domain</th>\n",
       "      <th>event_created</th>\n",
       "      <th>...</th>\n",
       "      <th>user_type</th>\n",
       "      <th>venue_address</th>\n",
       "      <th>venue_country</th>\n",
       "      <th>venue_latitude</th>\n",
       "      <th>venue_longitude</th>\n",
       "      <th>venue_name</th>\n",
       "      <th>venue_state</th>\n",
       "      <th>labels</th>\n",
       "      <th>total_tickets_sold</th>\n",
       "      <th>median_ticket_cost</th>\n",
       "    </tr>\n",
       "  </thead>\n",
       "  <tbody>\n",
       "    <tr>\n",
       "      <th>0</th>\n",
       "      <td>fraudster_event</td>\n",
       "      <td>1266062400</td>\n",
       "      <td>3852</td>\n",
       "      <td>5</td>\n",
       "      <td>US</td>\n",
       "      <td>USD</td>\n",
       "      <td>0.0</td>\n",
       "      <td>&lt;p&gt;&lt;a href=\"http://s432.photobucket.com/albums...</td>\n",
       "      <td>gmail.com</td>\n",
       "      <td>1262739706</td>\n",
       "      <td>...</td>\n",
       "      <td>1</td>\n",
       "      <td>717 Washington Avenue</td>\n",
       "      <td>US</td>\n",
       "      <td>25.777471</td>\n",
       "      <td>-80.133433</td>\n",
       "      <td>INK Nightclub - South Beach</td>\n",
       "      <td>FL</td>\n",
       "      <td>1</td>\n",
       "      <td>0</td>\n",
       "      <td>50.00</td>\n",
       "    </tr>\n",
       "    <tr>\n",
       "      <th>1</th>\n",
       "      <td>premium</td>\n",
       "      <td>1296720000</td>\n",
       "      <td>3499</td>\n",
       "      <td>0</td>\n",
       "      <td>US</td>\n",
       "      <td>USD</td>\n",
       "      <td>1.0</td>\n",
       "      <td>&lt;p&gt;Join us for a quick, one-night, community-b...</td>\n",
       "      <td>ruf.org</td>\n",
       "      <td>1293832670</td>\n",
       "      <td>...</td>\n",
       "      <td>3</td>\n",
       "      <td></td>\n",
       "      <td>US</td>\n",
       "      <td>32.776566</td>\n",
       "      <td>-79.930922</td>\n",
       "      <td>The Charleston, SC area</td>\n",
       "      <td>SC</td>\n",
       "      <td>0</td>\n",
       "      <td>25</td>\n",
       "      <td>35.00</td>\n",
       "    </tr>\n",
       "    <tr>\n",
       "      <th>2</th>\n",
       "      <td>premium</td>\n",
       "      <td>1296172800</td>\n",
       "      <td>2601</td>\n",
       "      <td>8</td>\n",
       "      <td>US</td>\n",
       "      <td>USD</td>\n",
       "      <td>1.0</td>\n",
       "      <td>&lt;h3&gt;&lt;span class=\"subcategory\"&gt;&lt;strong&gt;Teacher ...</td>\n",
       "      <td>pvsd.k12.ca.us</td>\n",
       "      <td>1291090956</td>\n",
       "      <td>...</td>\n",
       "      <td>3</td>\n",
       "      <td>10100 Pioneer Blvd Suite 100</td>\n",
       "      <td>US</td>\n",
       "      <td>33.944201</td>\n",
       "      <td>-118.080419</td>\n",
       "      <td>Los Angeles County Office of Education</td>\n",
       "      <td>CA</td>\n",
       "      <td>0</td>\n",
       "      <td>48</td>\n",
       "      <td>93.51</td>\n",
       "    </tr>\n",
       "    <tr>\n",
       "      <th>3</th>\n",
       "      <td>premium</td>\n",
       "      <td>1388966400</td>\n",
       "      <td>12347</td>\n",
       "      <td>6</td>\n",
       "      <td>IE</td>\n",
       "      <td>EUR</td>\n",
       "      <td>1.0</td>\n",
       "      <td>&lt;p style=\"margin-bottom: 1.3em; padding-bottom...</td>\n",
       "      <td>irishtabletennis.com</td>\n",
       "      <td>1360681570</td>\n",
       "      <td>...</td>\n",
       "      <td>3</td>\n",
       "      <td></td>\n",
       "      <td>None</td>\n",
       "      <td>NaN</td>\n",
       "      <td>NaN</td>\n",
       "      <td>None</td>\n",
       "      <td>None</td>\n",
       "      <td>0</td>\n",
       "      <td>58</td>\n",
       "      <td>13.50</td>\n",
       "    </tr>\n",
       "    <tr>\n",
       "      <th>4</th>\n",
       "      <td>premium</td>\n",
       "      <td>1297900800</td>\n",
       "      <td>2417</td>\n",
       "      <td>11</td>\n",
       "      <td>US</td>\n",
       "      <td>USD</td>\n",
       "      <td>0.0</td>\n",
       "      <td>&lt;p&gt;Writers and filmmakers need to understand t...</td>\n",
       "      <td>artsandbusinesscouncil.org</td>\n",
       "      <td>1291994666</td>\n",
       "      <td>...</td>\n",
       "      <td>3</td>\n",
       "      <td>One Marina Park Drive</td>\n",
       "      <td>US</td>\n",
       "      <td>42.353848</td>\n",
       "      <td>-71.044276</td>\n",
       "      <td>Fish &amp; Richardson</td>\n",
       "      <td>MA</td>\n",
       "      <td>0</td>\n",
       "      <td>39</td>\n",
       "      <td>92.50</td>\n",
       "    </tr>\n",
       "  </tbody>\n",
       "</table>\n",
       "<p>5 rows × 47 columns</p>\n",
       "</div>"
      ],
      "text/plain": [
       "         acct_type  approx_payout_date  body_length  channels country  \\\n",
       "0  fraudster_event          1266062400         3852         5      US   \n",
       "1          premium          1296720000         3499         0      US   \n",
       "2          premium          1296172800         2601         8      US   \n",
       "3          premium          1388966400        12347         6      IE   \n",
       "4          premium          1297900800         2417        11      US   \n",
       "\n",
       "  currency  delivery_method  \\\n",
       "0      USD              0.0   \n",
       "1      USD              1.0   \n",
       "2      USD              1.0   \n",
       "3      EUR              1.0   \n",
       "4      USD              0.0   \n",
       "\n",
       "                                         description  \\\n",
       "0  <p><a href=\"http://s432.photobucket.com/albums...   \n",
       "1  <p>Join us for a quick, one-night, community-b...   \n",
       "2  <h3><span class=\"subcategory\"><strong>Teacher ...   \n",
       "3  <p style=\"margin-bottom: 1.3em; padding-bottom...   \n",
       "4  <p>Writers and filmmakers need to understand t...   \n",
       "\n",
       "                 email_domain  event_created        ...          user_type  \\\n",
       "0                   gmail.com     1262739706        ...                  1   \n",
       "1                     ruf.org     1293832670        ...                  3   \n",
       "2              pvsd.k12.ca.us     1291090956        ...                  3   \n",
       "3        irishtabletennis.com     1360681570        ...                  3   \n",
       "4  artsandbusinesscouncil.org     1291994666        ...                  3   \n",
       "\n",
       "                  venue_address  venue_country  venue_latitude  \\\n",
       "0         717 Washington Avenue             US       25.777471   \n",
       "1                                           US       32.776566   \n",
       "2  10100 Pioneer Blvd Suite 100             US       33.944201   \n",
       "3                                         None             NaN   \n",
       "4        One Marina Park Drive              US       42.353848   \n",
       "\n",
       "   venue_longitude                              venue_name  venue_state  \\\n",
       "0       -80.133433             INK Nightclub - South Beach           FL   \n",
       "1       -79.930922                 The Charleston, SC area           SC   \n",
       "2      -118.080419  Los Angeles County Office of Education           CA   \n",
       "3              NaN                                    None         None   \n",
       "4       -71.044276                       Fish & Richardson           MA   \n",
       "\n",
       "   labels total_tickets_sold median_ticket_cost  \n",
       "0       1                  0              50.00  \n",
       "1       0                 25              35.00  \n",
       "2       0                 48              93.51  \n",
       "3       0                 58              13.50  \n",
       "4       0                 39              92.50  \n",
       "\n",
       "[5 rows x 47 columns]"
      ]
     },
     "execution_count": 82,
     "metadata": {},
     "output_type": "execute_result"
    }
   ],
   "source": [
    "train_df.head()"
   ]
  },
  {
   "cell_type": "code",
   "execution_count": 99,
   "metadata": {
    "collapsed": true
   },
   "outputs": [],
   "source": [
    "fticks = train_df[(train_df['labels'] == 0) & (train_df['total_tickets_sold'] < 300)]['total_tickets_sold']\n",
    "tticks = train_df[(train_df['labels'] == 1) & (train_df['total_tickets_sold']<300)]['total_tickets_sold']"
   ]
  },
  {
   "cell_type": "code",
   "execution_count": 121,
   "metadata": {
    "collapsed": false
   },
   "outputs": [],
   "source": [
    "def plt_hist(lst, bins = 10, title = None, grid = True, figsize = (10, 10), \\\n",
    "             xlabel = None, ylabel = 'percentage', extra_colors = [], labels = []):\n",
    "    \n",
    "    \"\"\"Takes a list of arrays and \n",
    "    plots their histograms on the same graph\n",
    "    \n",
    "    Inputs:\n",
    "        lst:          list of arrays, each array will have a histogram\n",
    "        title:        main title of the plot, default 'None'\n",
    "        grid:         grid appears if True, no grid if False, default True\n",
    "        figsize:      size of the plot, default = (10, 10)\n",
    "        xlabel:       label of x-axis, default = 'None'\n",
    "        ylabel:       label of y-axis, default = 'percentage'\n",
    "        extra_colors: list of other colors to add to the color_list, default = []\n",
    "        labels:       list of labels for each histogram, default = []\n",
    "        \n",
    "    -------------------\n",
    "        Returns: a histogram of each array in the list\n",
    "    \"\"\"\n",
    "    \n",
    "    \n",
    "    color_list = ['#FF8C00', '#FAFCCC', '#EA653B', '#EE993D', \\\n",
    "                  '#EA653B','#ED9239', '#A4A7AA', '#676767']\n",
    "    \n",
    "    if extra_colors != []: \n",
    "        for c in extra_colors:\n",
    "            color_list.append(c)\n",
    "    \n",
    "    \n",
    "    if len(lst) > len(color_list):\n",
    "        print 'Not enough colors for each histogram'\n",
    "        print 'we will automatically assign them to black'\n",
    "        print 'Assign {} more colors to fix this problem'.format(len(lst) - len(color_list))\n",
    "        \n",
    "    \n",
    "    fig = plt.figure(figsize=figsize)\n",
    "    \n",
    "    # Adds a grid backgroud if 'grid = True'\n",
    "    if grid:\n",
    "        plt.grid(zorder = 0, linestyle = 'dashed', color = '#acaaa8')\n",
    "    \n",
    "    \n",
    "    for index, array in enumerate(lst):\n",
    "        plt.hist(array,\n",
    "                 bins = bins,\n",
    "                 ec = 'k', \n",
    "                 color=color_list[index], \n",
    "                 zorder = 3, \n",
    "                 alpha = 0.5, \n",
    "                 normed=1, \n",
    "                 label = 'Array {}'.format(index))\n",
    "        plt.legend()\n",
    "        if title:\n",
    "            plt.title(title)\n",
    "        if xlabel:\n",
    "            plt.xlabel(xlabel)\n",
    "        plt.ylabel(ylabel)\n",
    "    plt.show()"
   ]
  },
  {
   "cell_type": "code",
   "execution_count": 122,
   "metadata": {
    "collapsed": false
   },
   "outputs": [
    {
     "data": {
      "image/png": "[encoded data removed]",
      "text/plain": [
       "<matplotlib.figure.Figure at 0x7f6994cae750>"
      ]
     },
     "metadata": {},
     "output_type": "display_data"
    }
   ],
   "source": [
    "plt_hist([fticks, tticks], \n",
    "         xlabel = 'Tickets Sold', \n",
    "         ylabel = 'Percentage', \n",
    "         title = 'Tickets Sold \\n by Fraud / Not Fraud', \n",
    "         bins = 20)"
   ]
  },
  {
   "cell_type": "code",
   "execution_count": 128,
   "metadata": {
    "collapsed": true
   },
   "outputs": [],
   "source": [
    "cleaned_df = pd.read_csv('Clean_df.csv')"
   ]
  },
  {
   "cell_type": "code",
   "execution_count": 130,
   "metadata": {
    "collapsed": false
   },
   "outputs": [
    {
     "data": {
      "text/html": [
       "<div>\n",
       "<table border=\"1\" class=\"dataframe\">\n",
       "  <thead>\n",
       "    <tr style=\"text-align: right;\">\n",
       "      <th></th>\n",
       "      <th>Unnamed: 0</th>\n",
       "      <th>channels</th>\n",
       "      <th>delivery_method</th>\n",
       "      <th>show_map</th>\n",
       "      <th>user_type</th>\n",
       "      <th>has_logo</th>\n",
       "      <th>org_facebook</th>\n",
       "      <th>sale_duration</th>\n",
       "      <th>sale_duration2</th>\n",
       "      <th>num_ticket_type</th>\n",
       "      <th>median_ticket_cost</th>\n",
       "      <th>total_tickets_sold</th>\n",
       "      <th>nan_delivery_method</th>\n",
       "      <th>nan_org_facebook</th>\n",
       "      <th>nan_num_ticket_type</th>\n",
       "      <th>nan_median_ticket_cost</th>\n",
       "      <th>payout_type_CHECK</th>\n",
       "      <th>payout_type_MISSING</th>\n",
       "    </tr>\n",
       "  </thead>\n",
       "  <tbody>\n",
       "    <tr>\n",
       "      <th>0</th>\n",
       "      <td>0</td>\n",
       "      <td>5</td>\n",
       "      <td>0.0</td>\n",
       "      <td>1</td>\n",
       "      <td>1</td>\n",
       "      <td>0</td>\n",
       "      <td>0.0</td>\n",
       "      <td>29.0</td>\n",
       "      <td>33</td>\n",
       "      <td>3.0</td>\n",
       "      <td>50.00</td>\n",
       "      <td>0</td>\n",
       "      <td>False</td>\n",
       "      <td>False</td>\n",
       "      <td>False</td>\n",
       "      <td>False</td>\n",
       "      <td>0</td>\n",
       "      <td>1</td>\n",
       "    </tr>\n",
       "    <tr>\n",
       "      <th>1</th>\n",
       "      <td>1</td>\n",
       "      <td>0</td>\n",
       "      <td>1.0</td>\n",
       "      <td>0</td>\n",
       "      <td>3</td>\n",
       "      <td>1</td>\n",
       "      <td>0.0</td>\n",
       "      <td>28.0</td>\n",
       "      <td>28</td>\n",
       "      <td>2.0</td>\n",
       "      <td>35.00</td>\n",
       "      <td>25</td>\n",
       "      <td>False</td>\n",
       "      <td>False</td>\n",
       "      <td>False</td>\n",
       "      <td>False</td>\n",
       "      <td>1</td>\n",
       "      <td>0</td>\n",
       "    </tr>\n",
       "    <tr>\n",
       "      <th>2</th>\n",
       "      <td>2</td>\n",
       "      <td>8</td>\n",
       "      <td>1.0</td>\n",
       "      <td>0</td>\n",
       "      <td>3</td>\n",
       "      <td>0</td>\n",
       "      <td>0.0</td>\n",
       "      <td>54.0</td>\n",
       "      <td>54</td>\n",
       "      <td>1.0</td>\n",
       "      <td>93.51</td>\n",
       "      <td>48</td>\n",
       "      <td>False</td>\n",
       "      <td>False</td>\n",
       "      <td>False</td>\n",
       "      <td>False</td>\n",
       "      <td>1</td>\n",
       "      <td>0</td>\n",
       "    </tr>\n",
       "    <tr>\n",
       "      <th>3</th>\n",
       "      <td>3</td>\n",
       "      <td>6</td>\n",
       "      <td>1.0</td>\n",
       "      <td>0</td>\n",
       "      <td>3</td>\n",
       "      <td>1</td>\n",
       "      <td>0.0</td>\n",
       "      <td>0.0</td>\n",
       "      <td>0</td>\n",
       "      <td>6.0</td>\n",
       "      <td>13.50</td>\n",
       "      <td>58</td>\n",
       "      <td>False</td>\n",
       "      <td>False</td>\n",
       "      <td>False</td>\n",
       "      <td>False</td>\n",
       "      <td>0</td>\n",
       "      <td>0</td>\n",
       "    </tr>\n",
       "    <tr>\n",
       "      <th>4</th>\n",
       "      <td>4</td>\n",
       "      <td>11</td>\n",
       "      <td>0.0</td>\n",
       "      <td>0</td>\n",
       "      <td>3</td>\n",
       "      <td>0</td>\n",
       "      <td>0.0</td>\n",
       "      <td>63.0</td>\n",
       "      <td>63</td>\n",
       "      <td>8.0</td>\n",
       "      <td>92.50</td>\n",
       "      <td>39</td>\n",
       "      <td>False</td>\n",
       "      <td>False</td>\n",
       "      <td>False</td>\n",
       "      <td>False</td>\n",
       "      <td>1</td>\n",
       "      <td>0</td>\n",
       "    </tr>\n",
       "  </tbody>\n",
       "</table>\n",
       "</div>"
      ],
      "text/plain": [
       "   Unnamed: 0  channels  delivery_method  show_map  user_type  has_logo  \\\n",
       "0           0         5              0.0         1          1         0   \n",
       "1           1         0              1.0         0          3         1   \n",
       "2           2         8              1.0         0          3         0   \n",
       "3           3         6              1.0         0          3         1   \n",
       "4           4        11              0.0         0          3         0   \n",
       "\n",
       "   org_facebook  sale_duration  sale_duration2  num_ticket_type  \\\n",
       "0           0.0           29.0              33              3.0   \n",
       "1           0.0           28.0              28              2.0   \n",
       "2           0.0           54.0              54              1.0   \n",
       "3           0.0            0.0               0              6.0   \n",
       "4           0.0           63.0              63              8.0   \n",
       "\n",
       "   median_ticket_cost  total_tickets_sold nan_delivery_method  \\\n",
       "0               50.00                   0               False   \n",
       "1               35.00                  25               False   \n",
       "2               93.51                  48               False   \n",
       "3               13.50                  58               False   \n",
       "4               92.50                  39               False   \n",
       "\n",
       "  nan_org_facebook nan_num_ticket_type nan_median_ticket_cost  \\\n",
       "0            False               False                  False   \n",
       "1            False               False                  False   \n",
       "2            False               False                  False   \n",
       "3            False               False                  False   \n",
       "4            False               False                  False   \n",
       "\n",
       "   payout_type_CHECK  payout_type_MISSING  \n",
       "0                  0                    1  \n",
       "1                  1                    0  \n",
       "2                  1                    0  \n",
       "3                  0                    0  \n",
       "4                  1                    0  "
      ]
     },
     "execution_count": 130,
     "metadata": {},
     "output_type": "execute_result"
    }
   ],
   "source": [
    "cleaned_df.head()"
   ]
  },
  {
   "cell_type": "code",
   "execution_count": null,
   "metadata": {
    "collapsed": true
   },
   "outputs": [],
   "source": [
    "model = "
   ]
  }
 ],
 "metadata": {
  "kernelspec": {
   "display_name": "Python 2",
   "language": "python",
   "name": "python2"
  },
  "language_info": {
   "codemirror_mode": {
    "name": "ipython",
    "version": 2
   },
   "file_extension": ".py",
   "mimetype": "text/x-python",
   "name": "python",
   "nbconvert_exporter": "python",
   "pygments_lexer": "ipython2",
   "version": "2.7.13"
  }
 },
 "nbformat": 4,
 "nbformat_minor": 2
}
